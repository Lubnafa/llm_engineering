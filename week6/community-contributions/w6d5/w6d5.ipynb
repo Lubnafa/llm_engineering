{
 "cells": [
  {
   "cell_type": "markdown",
   "metadata": {},
   "source": [
    "## Quick Testing Section (Run This First)\n"
   ]
  },
  {
   "cell_type": "code",
   "execution_count": 6,
   "metadata": {},
   "outputs": [
    {
     "name": "stdout",
     "output_type": "stream",
     "text": [
      "Setup complete!\n",
      "Fine-tuned model: ft:gpt-4.1-2025-04-14:techxelo::CUqSbHw7\n"
     ]
    }
   ],
   "source": [
    "import os\n",
    "from dotenv import load_dotenv\n",
    "from openai import OpenAI\n",
    "\n",
    "load_dotenv()\n",
    "client = OpenAI(api_key=os.getenv('OPENAI_API_KEY'))\n",
    "\n",
    "# Your existing fine-tuned model if any\n",
    "FINE_TUNED_MODEL = os.getenv('TUNED_MODEL')\n",
    "\n",
    "print(\"Setup complete!\")\n",
    "print(f\"Fine-tuned model: {FINE_TUNED_MODEL}\")\n"
   ]
  },
  {
   "cell_type": "code",
   "execution_count": 7,
   "metadata": {},
   "outputs": [],
   "source": [
    "def test_fine_tuned_model(model_name: str):\n",
    "    \"\"\"Test fine-tuned model with custom queries\"\"\"\n",
    "    if not model_name:\n",
    "        print(\"No fine-tuned model available\")\n",
    "        return\n",
    "    \n",
    "    test_queries = [\n",
    "        \"Tell me about TechCorp products in Electronics category\",\n",
    "        \"What does StyleCo offer in Clothing?\",\n",
    "        \"Tell me about BookWorld products in Books category\",\n",
    "        \"What are GardenPro's Home & Garden products like?\",\n",
    "        \"Tell me about SportMax products in Sports category\"\n",
    "    ]\n",
    "    \n",
    "    print(f\"Testing fine-tuned model: {model_name}\")\n",
    "    print(\"=\" * 50)\n",
    "    \n",
    "    for i, query in enumerate(test_queries, 1):\n",
    "        try:\n",
    "            response = client.chat.completions.create(\n",
    "                model=model_name,\n",
    "                messages=[\n",
    "                    {\"role\": \"system\", \"content\": \"You are a helpful assistant that provides product information.\"},\n",
    "                    {\"role\": \"user\", \"content\": query}\n",
    "                ],\n",
    "                max_tokens=150\n",
    "            )\n",
    "            \n",
    "            answer = response.choices[0].message.content\n",
    "            print(f\"Test {i}: {query}\")\n",
    "            print(f\"Response: {answer}\")\n",
    "            print(\"-\" * 30)\n",
    "            \n",
    "        except Exception as e:\n",
    "            print(f\"Test {i} failed: {e}\")\n",
    "            print(\"-\" * 30)\n"
   ]
  },
  {
   "cell_type": "code",
   "execution_count": 8,
   "metadata": {},
   "outputs": [
    {
     "name": "stdout",
     "output_type": "stream",
     "text": [
      "Testing fine-tuned model: ft:gpt-4.1-2025-04-14:techxelo::CUqSbHw7\n",
      "==================================================\n",
      "Test 1: Tell me about TechCorp products in Electronics category\n",
      "Response: TechCorp offers high-quality electronics products. Our electronics items range from $940.18 to $1040.18. We focus on quality and customer satisfaction in the Electronics market.\n",
      "------------------------------\n",
      "Test 2: What does StyleCo offer in Clothing?\n",
      "Response: StyleCo offers high-quality clothing products. Our clothing items range from $621.21 to $721.21. We focus on quality and customer satisfaction in the Clothing market.\n",
      "------------------------------\n",
      "Test 3: Tell me about BookWorld products in Books category\n",
      "Response: BookWorld offers high-quality books products. Our books items range from $249.86 to $349.86. We focus on quality and customer satisfaction in the Books market.\n",
      "------------------------------\n",
      "Test 4: What are GardenPro's Home & Garden products like?\n",
      "Response: GardenPro's Home & Garden products are high-quality items ranging from $506.01 to $606.01. We focus on quality and customer satisfaction in the home & garden market.\n",
      "------------------------------\n",
      "Test 5: Tell me about SportMax products in Sports category\n",
      "Response: SportMax offers high-quality sports products. Our sports items range from $609.05 to $709.05. We focus on quality and customer satisfaction in the Sports market.\n",
      "------------------------------\n"
     ]
    }
   ],
   "source": [
    "test_fine_tuned_model(FINE_TUNED_MODEL)\n"
   ]
  },
  {
   "cell_type": "code",
   "execution_count": 9,
   "metadata": {},
   "outputs": [],
   "source": [
    "def compare_models(fine_tuned_model: str):\n",
    "    \"\"\"Compare fine-tuned model with baseline\"\"\"\n",
    "    if not fine_tuned_model:\n",
    "        print(\"No fine-tuned model to compare\")\n",
    "        return\n",
    "    \n",
    "    test_query = \"Tell me about TechCorp products in Electronics category\"\n",
    "    \n",
    "    print(\"Model Comparison Test\")\n",
    "    print(\"=\" * 50)\n",
    "    print(f\"Test Query: {test_query}\")\n",
    "    print()\n",
    "    \n",
    "    try:\n",
    "        print(\"Baseline Model (gpt-4o-mini):\")\n",
    "        baseline_response = client.chat.completions.create(\n",
    "            model=\"gpt-4o-mini\",\n",
    "            messages=[\n",
    "                {\"role\": \"system\", \"content\": \"You are a helpful assistant that provides product information.\"},\n",
    "                {\"role\": \"user\", \"content\": test_query}\n",
    "            ],\n",
    "            max_tokens=150\n",
    "        )\n",
    "        baseline_answer = baseline_response.choices[0].message.content\n",
    "        print(f\"Response: {baseline_answer}\")\n",
    "        print()\n",
    "        \n",
    "        print(\"Fine-Tuned Model:\")\n",
    "        fine_tuned_response = client.chat.completions.create(\n",
    "            model=fine_tuned_model,\n",
    "            messages=[\n",
    "                {\"role\": \"system\", \"content\": \"You are a helpful assistant that provides product information.\"},\n",
    "                {\"role\": \"user\", \"content\": test_query}\n",
    "            ],\n",
    "            max_tokens=150\n",
    "        )\n",
    "        fine_tuned_answer = fine_tuned_response.choices[0].message.content\n",
    "        print(f\"Response: {fine_tuned_answer}\")\n",
    "        \n",
    "    except Exception as e:\n",
    "        print(f\"Comparison failed: {e}\")\n"
   ]
  },
  {
   "cell_type": "code",
   "execution_count": 10,
   "metadata": {},
   "outputs": [
    {
     "name": "stdout",
     "output_type": "stream",
     "text": [
      "Model Comparison Test\n",
      "==================================================\n",
      "Test Query: Tell me about TechCorp products in Electronics category\n",
      "\n",
      "Baseline Model (gpt-4o-mini):\n",
      "Response: As of my last update in October 2023, TechCorp is known for producing a variety of electronic products that cater to consumer needs in different segments. Please note that specific product models and details may vary by region and over time. Here’s an overview of some common categories of electronics that TechCorp typically offers:\n",
      "\n",
      "1. **Smartphones**: TechCorp usually has a lineup of smartphones that feature advanced cameras, high-performance processors, and innovative user interfaces. These devices might range from budget-friendly models to premium flagship smartphones.\n",
      "\n",
      "2. **Laptops**: The company often offers a selection of laptops, including ultrabooks, gaming laptops, and more affordable models aimed at students and professionals. These devices typically emphasize thin design, portability, and strong\n",
      "\n",
      "Fine-Tuned Model:\n",
      "Response: TechCorp offers high-quality electronics products. Our electronics items range from $888.44 to $988.44. We focus on quality and customer satisfaction in the Electronics market.\n"
     ]
    }
   ],
   "source": [
    "compare_models(FINE_TUNED_MODEL)\n"
   ]
  }
 ],
 "metadata": {
  "language_info": {
   "name": "python"
  }
 },
 "nbformat": 4,
 "nbformat_minor": 5
}
